{
 "cells": [
  {
   "cell_type": "code",
   "execution_count": 1,
   "id": "089d2610-25d3-4adf-a997-a7b706dcbdb0",
   "metadata": {},
   "outputs": [
    {
     "name": "stdin",
     "output_type": "stream",
     "text": [
      "Enter a number:  4\n"
     ]
    },
    {
     "name": "stdout",
     "output_type": "stream",
     "text": [
      "Even Number\n"
     ]
    }
   ],
   "source": [
    "# 1. Write a program to check if a given number is even or odd.\n",
    "\n",
    "num = int(input(\"Enter a number: \"))\n",
    "if num % 2 == 0:\n",
    "    print(\"Even Number\")\n",
    "else:\n",
    "    print(\"Odd Number\")"
   ]
  },
  {
   "cell_type": "code",
   "execution_count": 3,
   "id": "16600582-3500-46ad-9efa-e6fdbe817175",
   "metadata": {},
   "outputs": [
    {
     "name": "stdin",
     "output_type": "stream",
     "text": [
      "Enter a number:  7\n"
     ]
    },
    {
     "name": "stdout",
     "output_type": "stream",
     "text": [
      "Prime Number\n"
     ]
    }
   ],
   "source": [
    "# 2.Write a program to check if a number is prime or not.\n",
    "\n",
    "num = int(input(\"Enter a number: \"))\n",
    "if num < 2:\n",
    "    print(\"Not Prime\")\n",
    "else:\n",
    "    for i in range(2, int(num ** 0.5) + 1):\n",
    "        if num % i == 0:\n",
    "            print(\"Not Prime\")\n",
    "            break\n",
    "    else:\n",
    "        print(\"Prime Number\")"
   ]
  },
  {
   "cell_type": "code",
   "execution_count": 15,
   "id": "f1ba7d6d-4493-422d-93dd-84807a1f54cc",
   "metadata": {},
   "outputs": [
    {
     "name": "stdin",
     "output_type": "stream",
     "text": [
      "Enter a number:  5\n"
     ]
    },
    {
     "name": "stdout",
     "output_type": "stream",
     "text": [
      "Multiplication Table of 5:\n",
      "5 x 1 = 5\n",
      "5 x 2 = 10\n",
      "5 x 3 = 15\n",
      "5 x 4 = 20\n",
      "5 x 5 = 25\n",
      "5 x 6 = 30\n",
      "5 x 7 = 35\n",
      "5 x 8 = 40\n",
      "5 x 9 = 45\n",
      "5 x 10 = 50\n"
     ]
    }
   ],
   "source": [
    "# 3. print a table for any number\n",
    "num = int(input(\"Enter a number: \"))\n",
    "\n",
    "print(f\"Multiplication Table of {num}:\")\n",
    "for i in range(1, 11):\n",
    "    print(f\"{num} x {i} = {num * i}\")"
   ]
  },
  {
   "cell_type": "code",
   "execution_count": 9,
   "id": "a744e8ec-ec18-48ad-82d1-683ee2448c7d",
   "metadata": {},
   "outputs": [
    {
     "name": "stdin",
     "output_type": "stream",
     "text": [
      "Enter a number:  15\n"
     ]
    },
    {
     "name": "stdout",
     "output_type": "stream",
     "text": [
      "Divisible by 3\n",
      "Not divisible by 9\n"
     ]
    }
   ],
   "source": [
    "#4. Write a program to check if a number is divisible by 3 and 9 using the sum of digits rule.\n",
    "\n",
    "num = input(\"Enter a number: \")\n",
    "sum_digits = sum(int(d) for d in num)\n",
    "\n",
    "if sum_digits % 3 == 0:\n",
    "    print(\"Divisible by 3\")\n",
    "else:\n",
    "    print(\"Not divisible by 3\")\n",
    "\n",
    "if sum_digits % 9 == 0:\n",
    "    print(\"Divisible by 9\")\n",
    "else:\n",
    "    print(\"Not divisible by 9\")"
   ]
  },
  {
   "cell_type": "code",
   "execution_count": 13,
   "id": "a5ba2810-7a03-4af6-93ca-4257db40ec21",
   "metadata": {},
   "outputs": [
    {
     "name": "stdin",
     "output_type": "stream",
     "text": [
      "Enter a number:  2\n"
     ]
    },
    {
     "name": "stdout",
     "output_type": "stream",
     "text": [
      "Not a Perfect Number\n"
     ]
    }
   ],
   "source": [
    "#5 .Write a program to check if a number is a perfect number (sum of its factors excluding itself is equal to the number).\n",
    "\n",
    "num = int(input(\"Enter a number: \"))\n",
    "factors = sum(i for i in range(1, num) if num % i == 0)\n",
    "\n",
    "if factors == num:\n",
    "    print(\"Perfect Number\")\n",
    "else:\n",
    "    print(\"Not a Perfect Number\")"
   ]
  },
  {
   "cell_type": "code",
   "execution_count": 19,
   "id": "5f719c1f-68f1-4e4f-8c42-ecb770a6c709",
   "metadata": {},
   "outputs": [
    {
     "name": "stdin",
     "output_type": "stream",
     "text": [
      "Enter a number 7\n"
     ]
    },
    {
     "name": "stdout",
     "output_type": "stream",
     "text": [
      "Prime Number\n"
     ]
    }
   ],
   "source": [
    "# 6. Prime number\n",
    "num = int(input(\"Enter a number\"))\n",
    "count = 0\n",
    "\n",
    "for i in range(1, num + 1):\n",
    "    if num % i == 0:\n",
    "        count += 1\n",
    "\n",
    "if count == 2:\n",
    "    print(\"Prime Number\")\n",
    "else:\n",
    "    print(\"Not Prime\")"
   ]
  },
  {
   "cell_type": "code",
   "execution_count": 37,
   "id": "8e5bc0eb-fc84-4e72-98e1-c315c807ba69",
   "metadata": {},
   "outputs": [
    {
     "name": "stdin",
     "output_type": "stream",
     "text": [
      "Enter the value for n  10\n"
     ]
    },
    {
     "name": "stdout",
     "output_type": "stream",
     "text": [
      "10 23\n"
     ]
    }
   ],
   "source": [
    "#7. Sum of Numbers Divisible by 3 or 5\n",
    "n = int(input(\"Enter the value for n \"))\n",
    "i = 1\n",
    "total = 0\n",
    "\n",
    "while i < n :\n",
    "    if i % 3 == 0 or i % 5 == 0:\n",
    "       total += i\n",
    "    i += 1   \n",
    "print(n , total)    "
   ]
  },
  {
   "cell_type": "code",
   "execution_count": 47,
   "id": "004d407f-b934-4d77-86ad-ba59d1af64fe",
   "metadata": {},
   "outputs": [
    {
     "name": "stdin",
     "output_type": "stream",
     "text": [
      "Enter a number 4\n"
     ]
    },
    {
     "name": "stdout",
     "output_type": "stream",
     "text": [
      "factorial of 4 is 24\n"
     ]
    }
   ],
   "source": [
    "#8. Factorial of a number \n",
    "\n",
    "f = int(input(\"Enter a number\"))\n",
    "fact = 1\n",
    "i = 1\n",
    "\n",
    "while i <= f:\n",
    "    fact *= i\n",
    "    i += 1\n",
    "print(f\"factorial of {f} is {fact}\")    \n"
   ]
  },
  {
   "cell_type": "code",
   "execution_count": 3,
   "id": "764b1488-f130-46ef-90b8-df869f58156b",
   "metadata": {},
   "outputs": [
    {
     "name": "stdin",
     "output_type": "stream",
     "text": [
      "Enter first number:  12\n",
      "Enter second number:  18\n"
     ]
    },
    {
     "name": "stdout",
     "output_type": "stream",
     "text": [
      "HCF of 12 and 18 is 6\n"
     ]
    }
   ],
   "source": [
    "#9.Hcf of numbers\n",
    "\n",
    "a = int(input(\"Enter first number: \"))\n",
    "b = int(input(\"Enter second number: \"))\n",
    "\n",
    "if a < b:\n",
    "    smaller = a\n",
    "else:\n",
    "    smaller = b\n",
    "    \n",
    "hcf = 1\n",
    "i = 1\n",
    "\n",
    "while i <= smaller:\n",
    "   if a % i == 0 and b % i == 0:\n",
    "      hcf = i\n",
    "   i += 1\n",
    "\n",
    "print(f\"HCF of {a} and {b} is {hcf}\")\n"
   ]
  },
  {
   "cell_type": "code",
   "execution_count": 3,
   "id": "a1d05685-0d1a-4558-ac86-922580d71070",
   "metadata": {},
   "outputs": [
    {
     "name": "stdout",
     "output_type": "stream",
     "text": [
      "The 10 is composite number\n"
     ]
    }
   ],
   "source": [
    "#10.Check a number is composite or not.\n",
    "\n",
    "def check_composite(n):\n",
    "    if n < 2:   \n",
    "        return False\n",
    "    for i in range(2, n):\n",
    "        if n % i == 0:\n",
    "            return True\n",
    "    return False\n",
    "num=10\n",
    "if check_composite(num):\n",
    "    print(f\"The {num} is composite number\")\n",
    "else:\n",
    "    print(f\"The {num} is not composite number\")\n"
   ]
  },
  {
   "cell_type": "code",
   "execution_count": 9,
   "id": "a7e9dc00-04b9-4610-accc-d3970b75eaa3",
   "metadata": {},
   "outputs": [
    {
     "name": "stdin",
     "output_type": "stream",
     "text": [
      "Enter the number: 10\n"
     ]
    },
    {
     "name": "stdout",
     "output_type": "stream",
     "text": [
      "The sum of whole number is 55\n"
     ]
    }
   ],
   "source": [
    "#11.total sum of whole number given by user.\n",
    "n=int(input(\"Enter the number:\"))\n",
    "total=0\n",
    "for i in range(0,n + 1): \n",
    "    total +=i \n",
    "print(\"The sum of whole number is\",total)"
   ]
  },
  {
   "cell_type": "code",
   "execution_count": 13,
   "id": "5f80acbf-69b3-4301-8e7b-f025f5a861fe",
   "metadata": {},
   "outputs": [
    {
     "name": "stdin",
     "output_type": "stream",
     "text": [
      "Enter a number:  555\n"
     ]
    },
    {
     "name": "stdout",
     "output_type": "stream",
     "text": [
      "Greatest number divisible by 4: 552\n"
     ]
    }
   ],
   "source": [
    "#12.three digit greatest number which is divisible by 4.\n",
    "\n",
    "n = int(input(\"Enter a number: \"))\n",
    "greatest_num = n - (n % 4) # ireminder - actual value\n",
    "print(\"Greatest number divisible by 4:\",greatest_num )"
   ]
  },
  {
   "cell_type": "code",
   "execution_count": null,
   "id": "73e79ffd-ab7b-4f7f-9b20-7ffe1004cd31",
   "metadata": {},
   "outputs": [],
   "source": [
    "# 13.sum of natural numbers \n",
    "number=int(input(\"Enter a number:\")) # take input from user\n",
    "sum=0  # intial  sum is 0\n",
    "for i in range(1,number + 1): # define the range start from 1  upto number which we provide.\n",
    "    sum +=i  # add number \n",
    " \n",
    "print(\"The sum of natural number is\",sum)"
   ]
  },
  {
   "cell_type": "code",
   "execution_count": 15,
   "id": "d2356f08-52c4-4ab6-af83-19cbf0bca0ef",
   "metadata": {},
   "outputs": [
    {
     "name": "stdout",
     "output_type": "stream",
     "text": [
      "Rational number: 20/6\n",
      "Decimal value: 3.3333333333333335\n"
     ]
    }
   ],
   "source": [
    "#14.Write a program for Rational number.\n",
    "\n",
    "numerator = 20\n",
    "denominator = 6\n",
    "rational_number = f\"{numerator}/{denominator}\"\n",
    "decimal_value = numerator / denominator\n",
    "\n",
    "print(\"Rational number:\", rational_number)\n",
    "print(\"Decimal value:\", decimal_value)"
   ]
  },
  {
   "cell_type": "code",
   "execution_count": 19,
   "id": "f878e66b-09fc-43f0-963b-4334ac417c99",
   "metadata": {},
   "outputs": [
    {
     "name": "stdout",
     "output_type": "stream",
     "text": [
      "{1, 2, 3, 4, 5}\n",
      "{3}\n"
     ]
    }
   ],
   "source": [
    "# 15 . finding union and intersection for the set \n",
    "\n",
    "a = {1, 2, 3}\n",
    "b = {3, 4, 5}\n",
    "print(a.union(b))\n",
    "print(a.intersection(b))"
   ]
  },
  {
   "cell_type": "code",
   "execution_count": 21,
   "id": "c344b4a1-f271-4971-8f3c-a105d0a7d618",
   "metadata": {},
   "outputs": [
    {
     "name": "stdout",
     "output_type": "stream",
     "text": [
      "Only in A: {1, 2}\n"
     ]
    }
   ],
   "source": [
    "# 16. Find Elements Only in the First Set (Difference)\n",
    "a = {1, 2, 3, 4}\n",
    "b = {3, 4, 5}\n",
    "\n",
    "only_in_a = a - b\n",
    "print(\"Only in A:\", only_in_a)"
   ]
  },
  {
   "cell_type": "code",
   "execution_count": 23,
   "id": "b2ced266-b413-4330-b535-a947bd7613c7",
   "metadata": {},
   "outputs": [
    {
     "name": "stdout",
     "output_type": "stream",
     "text": [
      "Symmetric difference: {40, 10}\n"
     ]
    }
   ],
   "source": [
    "#17 . Symmetric Difference\n",
    "\n",
    "x = {10, 20, 30}\n",
    "y = {20, 30, 40}\n",
    "\n",
    "result = x.symmetric_difference(y)\n",
    "print(\"Symmetric difference:\", result)"
   ]
  },
  {
   "cell_type": "code",
   "execution_count": 25,
   "id": "22158f7e-ad2c-4641-95a2-ad667f93992c",
   "metadata": {},
   "outputs": [
    {
     "name": "stdout",
     "output_type": "stream",
     "text": [
      "{'e', ' ', 'h', 'd', 'w', 'l', 'o', 'r'}\n"
     ]
    }
   ],
   "source": [
    "#18. Remove Duplicate Characters\n",
    "\n",
    "text = \"hello world\"\n",
    "unique_chars = set(text)\n",
    "print(unique_chars)"
   ]
  },
  {
   "cell_type": "code",
   "execution_count": 29,
   "id": "b664a157-05fb-4d33-910c-18429b5f6827",
   "metadata": {},
   "outputs": [
    {
     "name": "stdin",
     "output_type": "stream",
     "text": [
      "Enter first number:  44\n",
      "Enter second number:  55\n",
      "Enter third number:  66\n"
     ]
    },
    {
     "name": "stdout",
     "output_type": "stream",
     "text": [
      "Average is: 55.0\n"
     ]
    }
   ],
   "source": [
    "# 19. finding average of a numbers \n",
    "a = float(input(\"Enter first number: \"))\n",
    "b = float(input(\"Enter second number: \"))\n",
    "c = float(input(\"Enter third number: \"))\n",
    "\n",
    "average = (a + b + c) / 3\n",
    "print(\"Average is:\", average)"
   ]
  },
  {
   "cell_type": "code",
   "execution_count": 31,
   "id": "43f75e66-02be-4ccb-9a57-03609dc889f2",
   "metadata": {},
   "outputs": [
    {
     "name": "stdin",
     "output_type": "stream",
     "text": [
      "How many numbers?  5\n",
      "Enter number:  12\n",
      "Enter number:  12\n",
      "Enter number:  15\n",
      "Enter number:  44\n",
      "Enter number:  66\n"
     ]
    },
    {
     "name": "stdout",
     "output_type": "stream",
     "text": [
      "Average is: 29.8\n"
     ]
    }
   ],
   "source": [
    "# 20. Average of n User-Entered Numbers\n",
    "\n",
    "n = int(input(\"How many numbers? \"))\n",
    "total = 0\n",
    "\n",
    "for i in range(n):\n",
    "    num = float(input(\"Enter number: \"))\n",
    "    total += num\n",
    "\n",
    "average = total / n\n",
    "print(\"Average is:\", average)"
   ]
  },
  {
   "cell_type": "code",
   "execution_count": 33,
   "id": "26d8331c-8fc7-4c0e-9543-0f89fc9001e1",
   "metadata": {},
   "outputs": [
    {
     "name": "stdout",
     "output_type": "stream",
     "text": [
      "Average age of group: 31.6\n"
     ]
    }
   ],
   "source": [
    "# 21 Average Age from a List\n",
    "ages = [23, 35, 29, 41, 30]\n",
    "average_age = sum(ages) / len(ages)\n",
    "print(\"Average age of group:\", average_age)"
   ]
  },
  {
   "cell_type": "code",
   "execution_count": 37,
   "id": "3312741d-435e-4e1a-aae1-0e6979f74098",
   "metadata": {},
   "outputs": [
    {
     "name": "stdin",
     "output_type": "stream",
     "text": [
      "Enter age of person 1:  44\n",
      "Enter age of person 2:  12\n",
      "Enter age of person 3:  55\n"
     ]
    },
    {
     "name": "stdout",
     "output_type": "stream",
     "text": [
      "The youngest age is: 12\n"
     ]
    }
   ],
   "source": [
    "# 22.youngest of all \n",
    "\n",
    "age1 = int(input(\"Enter age of person 1: \"))\n",
    "age2 = int(input(\"Enter age of person 2: \"))\n",
    "age3 = int(input(\"Enter age of person 3: \"))\n",
    "\n",
    "youngest = min(age1, age2, age3)\n",
    "\n",
    "print(\"The youngest age is:\", youngest)"
   ]
  },
  {
   "cell_type": "code",
   "execution_count": 39,
   "id": "7c4dd07c-69fb-43b3-90e9-5bec6f4a25e3",
   "metadata": {},
   "outputs": [
    {
     "name": "stdin",
     "output_type": "stream",
     "text": [
      "Enter your age:  44\n"
     ]
    },
    {
     "name": "stdout",
     "output_type": "stream",
     "text": [
      "You are eligible for a driving license.\n"
     ]
    }
   ],
   "source": [
    "#23. eligibility for driving licences \n",
    "age = int(input(\"Enter your age: \"))\n",
    "\n",
    "if age >= 18:\n",
    "    print(\"You are eligible for a driving license.\")\n",
    "else:\n",
    "    print(\"You are not eligible for a driving license.\")"
   ]
  },
  {
   "cell_type": "code",
   "execution_count": 41,
   "id": "29577211-0174-40a2-9c63-ef687e4945e5",
   "metadata": {},
   "outputs": [
    {
     "name": "stdout",
     "output_type": "stream",
     "text": [
      "Updated list: [10, 20, 99, 40, 50]\n"
     ]
    }
   ],
   "source": [
    "#24.Replace the Middle Element in a List\n",
    "numbers = [10, 20, 30, 40, 50]\n",
    "middle_index = len(numbers) // 2\n",
    "numbers[middle_index] = 99\n",
    "print(\"Updated list:\", numbers)\n"
   ]
  },
  {
   "cell_type": "code",
   "execution_count": 43,
   "id": "0f8404bf-406b-4261-8d01-b01d00017883",
   "metadata": {},
   "outputs": [
    {
     "name": "stdin",
     "output_type": "stream",
     "text": [
      "Enter a color:  green\n"
     ]
    },
    {
     "name": "stdout",
     "output_type": "stream",
     "text": [
      "green found at index 2\n"
     ]
    }
   ],
   "source": [
    "# 25.Check If a Given Value Exists and Print Its Index\n",
    "colors = [\"red\", \"blue\", \"green\", \"yellow\"]\n",
    "user_color = input(\"Enter a color: \")\n",
    "\n",
    "if user_color in colors:\n",
    "    print(f\"{user_color} found at index {colors.index(user_color)}\")\n",
    "else:\n",
    "    print(f\"{user_color} not found in the list.\")"
   ]
  },
  {
   "cell_type": "code",
   "execution_count": 61,
   "id": "93665c29-4e89-4db2-b649-7dba85cb4232",
   "metadata": {},
   "outputs": [
    {
     "name": "stdout",
     "output_type": "stream",
     "text": [
      "Log base 10: 1.0\n",
      "Log base 2: 3.321928094887362\n"
     ]
    }
   ],
   "source": [
    "#26 finding log with base \n",
    "\n",
    "import math\n",
    "num = 10\n",
    "print(\"Log base 10:\", math.log10(num))\n",
    "print(\"Log base 2:\", math.log2(num))"
   ]
  },
  {
   "cell_type": "code",
   "execution_count": 55,
   "id": "6cc6dce2-0a75-4fd5-9be2-3dbf5b269220",
   "metadata": {},
   "outputs": [
    {
     "name": "stdin",
     "output_type": "stream",
     "text": [
      "Enter a number:  4\n"
     ]
    },
    {
     "name": "stdout",
     "output_type": "stream",
     "text": [
      "Square root of 4 is 2.0\n"
     ]
    }
   ],
   "source": [
    "#27 Find the square root of a number with math lib\n",
    "\n",
    "import math\n",
    "\n",
    "num = int(input(\"Enter a number: \"))\n",
    "if num >= 0:\n",
    "    print(\"Square root of\", num, \"is\", math.sqrt(num))\n",
    "else:\n",
    "    print(\"Cannot find square root of a negative number\")"
   ]
  },
  {
   "cell_type": "code",
   "execution_count": 63,
   "id": "6d017ff9-f280-454d-8669-3899171c24f0",
   "metadata": {},
   "outputs": [
    {
     "name": "stdin",
     "output_type": "stream",
     "text": [
      "Enter first number:  45\n",
      "Enter second number:  55\n"
     ]
    },
    {
     "name": "stdout",
     "output_type": "stream",
     "text": [
      "GCD of 45 and 55 is 5\n"
     ]
    }
   ],
   "source": [
    "# 28 Find the GCD of two numbers\n",
    "\n",
    "a = int(input(\"Enter first number: \"))\n",
    "b = int(input(\"Enter second number: \"))\n",
    "\n",
    "print(\"GCD of\", a, \"and\", b, \"is\", math.gcd(a, b))"
   ]
  },
  {
   "cell_type": "code",
   "execution_count": 65,
   "id": "cff5eca8-bf06-414b-95e6-1259ab52429f",
   "metadata": {},
   "outputs": [
    {
     "name": "stdin",
     "output_type": "stream",
     "text": [
      "Enter degrees:  45\n"
     ]
    },
    {
     "name": "stdout",
     "output_type": "stream",
     "text": [
      "45.0 degrees is equal to 0.7853981633974483 radians\n"
     ]
    }
   ],
   "source": [
    "#29 Convert degrees to radians\n",
    "degrees = float(input(\"Enter degrees: \"))\n",
    "radians = math.radians(degrees)\n",
    "print(f\"{degrees} degrees is equal to {radians} radians\")"
   ]
  },
  {
   "cell_type": "code",
   "execution_count": 67,
   "id": "2bca2cad-8ee2-4a88-b02c-ada3c23f9f8f",
   "metadata": {},
   "outputs": [
    {
     "name": "stdin",
     "output_type": "stream",
     "text": [
      "Enter the radius of the circle:  5\n"
     ]
    },
    {
     "name": "stdout",
     "output_type": "stream",
     "text": [
      "The area of the circle is 78.53981633974483\n"
     ]
    }
   ],
   "source": [
    "# 30 Calculate the area of a circle\n",
    "radius = float(input(\"Enter the radius of the circle: \"))\n",
    "area = math.pi * radius ** 2\n",
    "print(f\"The area of the circle is {area}\")"
   ]
  },
  {
   "cell_type": "code",
   "execution_count": 71,
   "id": "13b9523b-29fb-473c-b986-debde06b3104",
   "metadata": {},
   "outputs": [
    {
     "name": "stdin",
     "output_type": "stream",
     "text": [
      "Enter decimal value:  45.22\n"
     ]
    },
    {
     "name": "stdout",
     "output_type": "stream",
     "text": [
      "45.22 as a percentage is 4522.0%\n"
     ]
    }
   ],
   "source": [
    "#31 Convert a decimal to a percentage\n",
    "decimal = float(input(\"Enter decimal value: \"))\n",
    "percent = decimal * 100\n",
    "print(f\"{decimal} as a percentage is {percent}%\")"
   ]
  },
  {
   "cell_type": "code",
   "execution_count": 75,
   "id": "bcf51cb7-26af-468c-a817-57c7b2b3d4fe",
   "metadata": {},
   "outputs": [
    {
     "name": "stdin",
     "output_type": "stream",
     "text": [
      "Enter total marks:  665.656\n",
      "Enter marks obtained:  55.334\n"
     ]
    },
    {
     "name": "stdout",
     "output_type": "stream",
     "text": [
      "Percentage: 8.312702056317377%\n"
     ]
    }
   ],
   "source": [
    "#32 Calculate the percentage of marks\n",
    "total_marks = float(input(\"Enter total marks: \"))\n",
    "obtained_marks = float(input(\"Enter marks obtained: \"))\n",
    "\n",
    "percentage = (obtained_marks / total_marks) * 100\n",
    "print(f\"Percentage: {percentage}%\")"
   ]
  },
  {
   "cell_type": "code",
   "execution_count": 77,
   "id": "b59a88d1-39f3-4faf-8b61-9c92eedf95f0",
   "metadata": {},
   "outputs": [
    {
     "name": "stdin",
     "output_type": "stream",
     "text": [
      "Enter old value:  45\n",
      "Enter new value:  44\n"
     ]
    },
    {
     "name": "stdout",
     "output_type": "stream",
     "text": [
      "Percentage change: -2.2222222222222223%\n"
     ]
    }
   ],
   "source": [
    "#33 Calculate percentage change\n",
    "old = float(input(\"Enter old value: \"))\n",
    "new = float(input(\"Enter new value: \"))\n",
    "\n",
    "change = ((new - old) / old) * 100\n",
    "print(f\"Percentage change: {change}%\")"
   ]
  },
  {
   "cell_type": "code",
   "execution_count": 79,
   "id": "95e71c8f-60a4-4bc9-a409-c4164bd708b4",
   "metadata": {},
   "outputs": [
    {
     "name": "stdin",
     "output_type": "stream",
     "text": [
      "Enter the cost price:  95\n",
      "Enter the selling price:  115\n"
     ]
    },
    {
     "name": "stdout",
     "output_type": "stream",
     "text": [
      "Profit = 20.0\n"
     ]
    }
   ],
   "source": [
    "#34 Find Profit or Loss\n",
    "\n",
    "cost_price = float(input(\"Enter the cost price: \"))\n",
    "selling_price = float(input(\"Enter the selling price: \"))\n",
    "\n",
    "if selling_price > cost_price:\n",
    "    profit = selling_price - cost_price\n",
    "    print(f\"Profit = {profit}\")\n",
    "elif selling_price < cost_price:\n",
    "    loss = cost_price - selling_price\n",
    "    print(f\"Loss = {loss}\")\n",
    "else:\n",
    "    print(\"No Profit, No Loss\")"
   ]
  },
  {
   "cell_type": "code",
   "execution_count": 81,
   "id": "beedb4c9-fd8a-4abf-be5b-5f8fbb4535f5",
   "metadata": {},
   "outputs": [
    {
     "name": "stdin",
     "output_type": "stream",
     "text": [
      "Enter Cost Price:  95\n",
      "Enter Selling Price:  115\n"
     ]
    },
    {
     "name": "stdout",
     "output_type": "stream",
     "text": [
      "Profit Percentage = 21.052631578947366%\n"
     ]
    }
   ],
   "source": [
    "#35 Calculate Profit Percentage\n",
    "cp = float(input(\"Enter Cost Price: \"))\n",
    "sp = float(input(\"Enter Selling Price: \"))\n",
    "\n",
    "if sp > cp:\n",
    "    profit_percent = ((sp - cp) / cp) * 100\n",
    "    print(f\"Profit Percentage = {profit_percent}%\")\n",
    "else:\n",
    "    print(\"No profit made.\")"
   ]
  },
  {
   "cell_type": "code",
   "execution_count": 83,
   "id": "6d838eb3-a609-41f3-99ff-834fe01a7892",
   "metadata": {},
   "outputs": [
    {
     "name": "stdin",
     "output_type": "stream",
     "text": [
      "Enter Cost Price:  64\n",
      "Enter Selling Price:  40\n"
     ]
    },
    {
     "name": "stdout",
     "output_type": "stream",
     "text": [
      "Loss Percentage = 37.50%\n"
     ]
    }
   ],
   "source": [
    "# 36 calculate loss percentage \n",
    "cp = float(input(\"Enter Cost Price: \"))\n",
    "sp = float(input(\"Enter Selling Price: \"))\n",
    "\n",
    "if sp < cp:\n",
    "    loss_percent = ((cp - sp) / cp) * 100\n",
    "    print(f\"Loss Percentage = {loss_percent:.2f}%\")\n",
    "else:\n",
    "    print(\"No loss occurred.\")"
   ]
  },
  {
   "cell_type": "code",
   "execution_count": 85,
   "id": "a41a8aeb-87b4-4817-a4db-a505084e7459",
   "metadata": {},
   "outputs": [
    {
     "name": "stdin",
     "output_type": "stream",
     "text": [
      "enter a number1 96\n",
      "enter a number2 66\n",
      "enter a operator - '+' , '-' , ' * ' ,' / ' +\n"
     ]
    },
    {
     "name": "stdout",
     "output_type": "stream",
     "text": [
      "Result 162\n"
     ]
    }
   ],
   "source": [
    "#37 simple calculater\n",
    "\n",
    "num1 = int(input(\"enter a number1\"))\n",
    "num2 = int(input(\"enter a number2\"))\n",
    "op = input(\"enter a operator - '+' , '-' , ' * ' ,' / '\")\n",
    "\n",
    "if op == '+' :\n",
    "    print (\"Result\" , num1 + num2)\n",
    "\n",
    "elif op == '-' :\n",
    "    print (\"result\", num1 - num2)\n",
    "\n",
    "elif op == '*' :\n",
    "    print (\"result\", num1 * num2)\n",
    "\n",
    "elif op == '/' :\n",
    "    print (\"result\", num1 / num2)\n",
    "\n",
    "else :\n",
    "    print (\"Invalid op\")"
   ]
  },
  {
   "cell_type": "code",
   "execution_count": 87,
   "id": "e84896c1-0222-40d3-b1e0-b2a82c28792f",
   "metadata": {},
   "outputs": [
    {
     "name": "stdin",
     "output_type": "stream",
     "text": [
      "Enter a digit (0-9):  6\n"
     ]
    },
    {
     "name": "stdout",
     "output_type": "stream",
     "text": [
      "Word: Six\n"
     ]
    }
   ],
   "source": [
    "# digit to word\n",
    "digit = int(input(\"Enter a digit (0-9): \"))\n",
    "words = [\"Zero\", \"One\", \"Two\", \"Three\", \"Four\", \"Five\", \"Six\", \"Seven\", \"Eight\", \"Nine\"]\n",
    "\n",
    "if 0 <= digit <= 9:\n",
    "    print(\"Word:\", words[digit])\n",
    "else:\n",
    "    print(\"Invalid input\")"
   ]
  },
  {
   "cell_type": "code",
   "execution_count": null,
   "id": "3cf382d6-2afd-417e-a256-36941c5fd34d",
   "metadata": {},
   "outputs": [],
   "source": [
    "num = int(input(\"Enter a number (0–999): \"))\n",
    "words = [\"Zero\", \"One\", \"Two\", \"Three\", \"Four\", \"Five\", \"Six\", \"Seven\", \"Eight\", \"Nine\"]\n",
    "\n",
    "if 0 <= num <= 999:\n",
    "    print(\"Number in words:\", end=\" \")\n",
    "    for digit in str(num):\n",
    "        print(words[int(digit)], end=\" \")\n",
    "else:\n",
    "    print(\"Invalid input\")"
   ]
  }
 ],
 "metadata": {
  "kernelspec": {
   "display_name": "Python [conda env:base] *",
   "language": "python",
   "name": "conda-base-py"
  },
  "language_info": {
   "codemirror_mode": {
    "name": "ipython",
    "version": 3
   },
   "file_extension": ".py",
   "mimetype": "text/x-python",
   "name": "python",
   "nbconvert_exporter": "python",
   "pygments_lexer": "ipython3",
   "version": "3.12.7"
  }
 },
 "nbformat": 4,
 "nbformat_minor": 5
}
