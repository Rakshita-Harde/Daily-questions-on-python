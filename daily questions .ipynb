{
 "cells": [
  {
   "cell_type": "code",
   "execution_count": 1,
   "id": "089d2610-25d3-4adf-a997-a7b706dcbdb0",
   "metadata": {},
   "outputs": [
    {
     "name": "stdin",
     "output_type": "stream",
     "text": [
      "Enter a number:  4\n"
     ]
    },
    {
     "name": "stdout",
     "output_type": "stream",
     "text": [
      "Even Number\n"
     ]
    }
   ],
   "source": [
    "# 1. Write a program to check if a given number is even or odd.\n",
    "\n",
    "num = int(input(\"Enter a number: \"))\n",
    "if num % 2 == 0:\n",
    "    print(\"Even Number\")\n",
    "else:\n",
    "    print(\"Odd Number\")"
   ]
  },
  {
   "cell_type": "code",
   "execution_count": 3,
   "id": "16600582-3500-46ad-9efa-e6fdbe817175",
   "metadata": {},
   "outputs": [
    {
     "name": "stdin",
     "output_type": "stream",
     "text": [
      "Enter a number:  7\n"
     ]
    },
    {
     "name": "stdout",
     "output_type": "stream",
     "text": [
      "Prime Number\n"
     ]
    }
   ],
   "source": [
    "# 2.Write a program to check if a number is prime or not.\n",
    "\n",
    "num = int(input(\"Enter a number: \"))\n",
    "if num < 2:\n",
    "    print(\"Not Prime\")\n",
    "else:\n",
    "    for i in range(2, int(num ** 0.5) + 1):\n",
    "        if num % i == 0:\n",
    "            print(\"Not Prime\")\n",
    "            break\n",
    "    else:\n",
    "        print(\"Prime Number\")"
   ]
  },
  {
   "cell_type": "code",
   "execution_count": null,
   "id": "f1ba7d6d-4493-422d-93dd-84807a1f54cc",
   "metadata": {},
   "outputs": [],
   "source": [
    "# 3. print a table for any number\n",
    "num = int(input(\"Enter a number: \"))\n",
    "\n",
    "print(f\"Multiplication Table of {num}:\")\n",
    "for i in range(1, 11):\n",
    "    print(f\"{num} x {i} = {num * i}\")"
   ]
  },
  {
   "cell_type": "code",
   "execution_count": 9,
   "id": "a744e8ec-ec18-48ad-82d1-683ee2448c7d",
   "metadata": {},
   "outputs": [
    {
     "name": "stdin",
     "output_type": "stream",
     "text": [
      "Enter a number:  15\n"
     ]
    },
    {
     "name": "stdout",
     "output_type": "stream",
     "text": [
      "Divisible by 3\n",
      "Not divisible by 9\n"
     ]
    }
   ],
   "source": [
    "#4. Write a program to check if a number is divisible by 3 and 9 using the sum of digits rule.\n",
    "\n",
    "num = input(\"Enter a number: \")\n",
    "sum_digits = sum(int(d) for d in num)\n",
    "\n",
    "if sum_digits % 3 == 0:\n",
    "    print(\"Divisible by 3\")\n",
    "else:\n",
    "    print(\"Not divisible by 3\")\n",
    "\n",
    "if sum_digits % 9 == 0:\n",
    "    print(\"Divisible by 9\")\n",
    "else:\n",
    "    print(\"Not divisible by 9\")"
   ]
  },
  {
   "cell_type": "code",
   "execution_count": 13,
   "id": "a5ba2810-7a03-4af6-93ca-4257db40ec21",
   "metadata": {},
   "outputs": [
    {
     "name": "stdin",
     "output_type": "stream",
     "text": [
      "Enter a number:  2\n"
     ]
    },
    {
     "name": "stdout",
     "output_type": "stream",
     "text": [
      "Not a Perfect Number\n"
     ]
    }
   ],
   "source": [
    "#5 .Write a program to check if a number is a perfect number (sum of its factors excluding itself is equal to the number).\n",
    "\n",
    "num = int(input(\"Enter a number: \"))\n",
    "factors = sum(i for i in range(1, num) if num % i == 0)\n",
    "\n",
    "if factors == num:\n",
    "    print(\"Perfect Number\")\n",
    "else:\n",
    "    print(\"Not a Perfect Number\")"
   ]
  },
  {
   "cell_type": "code",
   "execution_count": null,
   "id": "5f719c1f-68f1-4e4f-8c42-ecb770a6c709",
   "metadata": {},
   "outputs": [],
   "source": []
  }
 ],
 "metadata": {
  "kernelspec": {
   "display_name": "Python [conda env:base] *",
   "language": "python",
   "name": "conda-base-py"
  },
  "language_info": {
   "codemirror_mode": {
    "name": "ipython",
    "version": 3
   },
   "file_extension": ".py",
   "mimetype": "text/x-python",
   "name": "python",
   "nbconvert_exporter": "python",
   "pygments_lexer": "ipython3",
   "version": "3.12.7"
  }
 },
 "nbformat": 4,
 "nbformat_minor": 5
}
